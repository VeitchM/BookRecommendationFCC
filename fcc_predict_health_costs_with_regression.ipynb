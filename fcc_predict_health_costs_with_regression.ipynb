{
  "cells": [
    {
      "cell_type": "code",
      "execution_count": null,
      "metadata": {
        "id": "1rRo8oNqZ-Rj"
      },
      "outputs": [],
      "source": [
        "# Import libraries. You may or may not use all of these.\n",
        "!pip install -q git+https://github.com/tensorflow/docs\n",
        "import matplotlib.pyplot as plt\n",
        "import numpy as np\n",
        "import pandas as pd\n",
        "\n",
        "try:\n",
        "  # %tensorflow_version only exists in Colab.\n",
        "  %tensorflow_version 2.x\n",
        "except Exception:\n",
        "  pass\n",
        "import tensorflow as tf\n",
        "\n",
        "from tensorflow import keras\n",
        "from tensorflow.keras import layers\n",
        "\n",
        "import tensorflow_docs as tfdocs\n",
        "import tensorflow_docs.plots\n",
        "import tensorflow_docs.modeling"
      ]
    },
    {
      "cell_type": "code",
      "execution_count": null,
      "metadata": {
        "id": "CiX2FI4gZtTt"
      },
      "outputs": [],
      "source": [
        "# Import data\n",
        "!wget https://cdn.freecodecamp.org/project-data/health-costs/insurance.csv\n",
        "dataset = pd.read_csv('insurance.csv')\n",
        "dataset.tail()"
      ]
    },
    {
      "cell_type": "code",
      "execution_count": null,
      "metadata": {
        "id": "LcopvQh3X-kX"
      },
      "outputs": [],
      "source": [
        "print(dataset.corr())\n",
        "print(dataset.describe())\n",
        "\n",
        "print(dataset.mean())\n",
        "print(dataset.std())\n",
        "print(meanFeatures)\n",
        "#dataset.head(100)\n",
        "#It make sense there are not nulls"
      ]
    },
    {
      "cell_type": "code",
      "source": [
        "\n",
        "shuffledDataSet = dataset.reindex(np.random.permutation(dataset.index)) #I mix the dataset to divide it after\n",
        "#shuffledDataSet.head(100)\n",
        "catColumns = [\"sex\", \"smoker\", \"region\"]\n",
        "shuffledDataSet = pd.get_dummies(shuffledDataSet, columns = catColumns, drop_first=True)\n",
        "def normalize(x):\n",
        "  return (x - x.mean())/x.std()\n",
        "\n",
        "\n",
        "def featuresAndLabels(dataset,label):\n",
        "  features = dataset.copy()\n",
        "  labels = features.pop(label)\n",
        "  features = (features-features.mean()) / features.std()\n",
        "  dict = { 'labels' : labels, 'features' : features}\n",
        "  return dict\n",
        "\n",
        "\n",
        "size = shuffledDataSet.size\n",
        "forTesting= 0.2\n",
        "label='expenses'\n",
        "\n",
        "trainDataSet = shuffledDataSet.head(size-int(size*forTesting))\n",
        "trainDataSet = featuresAndLabels(trainDataSet, 'expenses') \n",
        "\n",
        "testDataSet = shuffledDataSet.tail(int(size*forTesting))\n",
        "testDataSet = featuresAndLabels(testDataSet, 'expenses') \n",
        "\n",
        "testDataSet['features']\n",
        "#testDataSet['label']\n"
      ],
      "metadata": {
        "id": "RfkzkTOuF7Jy"
      },
      "execution_count": null,
      "outputs": []
    },
    {
      "cell_type": "code",
      "source": [
        "def train_model(model, df, my_epochs, \n",
        "                my_batch_size=1,):\n",
        "  \"\"\"Feed a dataset into the model in order to train it.\"\"\"\n",
        "\n",
        "  history = model.fit(x=df['features'],\n",
        "                      y=df['labels'],\n",
        "                      batch_size=my_batch_size,\n",
        "                      epochs=my_epochs,\n",
        "                      validation_split=0.1)\n",
        "\n",
        "\n",
        "\n",
        "  # The list of epochs is stored separately from the \n",
        "  # rest of history.\n",
        "  #epochs = history.epoch\n",
        "  \n",
        "  # Isolate the root mean squared error for each epoch.\n",
        "  #hist = pd.DataFrame(history.history)\n",
        "  #rmse = hist[\"root_mean_squared_error\"]\n",
        "\n",
        "  #return epochs, rmse, history.history   "
      ],
      "metadata": {
        "id": "epT1VM9AHim7"
      },
      "execution_count": null,
      "outputs": []
    },
    {
      "cell_type": "code",
      "source": [
        "inputShape = trainDataSet['features'].shape[1]\n",
        "print(inputShape)\n",
        "\n",
        "\n",
        "my_learning_rate=0.5\n",
        "\n",
        "model = keras.Sequential()\n",
        "model.add( layers.Dense(units=1,input_shape = (inputShape,) )  )\n",
        "model.compile(optimizer=tf.keras.optimizers.Adam(learning_rate=my_learning_rate),\n",
        "              loss='mae',\n",
        "              metrics=['mae','mse'])"
      ],
      "metadata": {
        "id": "UwgGvrBjPZkG"
      },
      "execution_count": null,
      "outputs": []
    },
    {
      "cell_type": "code",
      "source": [
        "train_model(model,trainDataSet,1000,my_batch_size=4)"
      ],
      "metadata": {
        "id": "FsrYZgN7VMxK"
      },
      "execution_count": null,
      "outputs": []
    },
    {
      "cell_type": "code",
      "source": [
        "test_dataset = testDataSet['features']\n",
        "test_labels = testDataSet['labels']"
      ],
      "metadata": {
        "id": "NcvTA79dORf7"
      },
      "execution_count": null,
      "outputs": []
    },
    {
      "cell_type": "code",
      "execution_count": null,
      "metadata": {
        "id": "Xe7RXH3N3CWU"
      },
      "outputs": [],
      "source": [
        "# RUN THIS CELL TO TEST YOUR MODEL. DO NOT MODIFY CONTENTS.\n",
        "# Test model by checking how well the model generalizes using the test set.\n",
        "loss, mae, mse = model.evaluate(test_dataset, test_labels, verbose=2)\n",
        "\n",
        "print(\"Testing set Mean Abs Error: {:5.2f} expenses\".format(mae))\n",
        "\n",
        "if mae < 3500:\n",
        "  print(\"You passed the challenge. Great job!\")\n",
        "else:\n",
        "  print(\"The Mean Abs Error must be less than 3500. Keep trying.\")\n",
        "\n",
        "# Plot predictions.\n",
        "test_predictions = model.predict(test_dataset).flatten()\n",
        "print(test_predictions)\n",
        "\n",
        "a = plt.axes(aspect='equal')\n",
        "plt.scatter(test_labels, test_predictions)\n",
        "plt.xlabel('True values (expenses)')\n",
        "plt.ylabel('Predictions (expenses)')\n",
        "lims = [0, 50000]\n",
        "plt.xlim(lims)\n",
        "plt.ylim(lims)\n",
        "_ = plt.plot(lims,lims)\n"
      ]
    }
  ],
  "metadata": {
    "colab": {
      "private_outputs": true,
      "provenance": [],
      "toc_visible": true
    },
    "kernelspec": {
      "display_name": "Python 3",
      "name": "python3"
    }
  },
  "nbformat": 4,
  "nbformat_minor": 0
}